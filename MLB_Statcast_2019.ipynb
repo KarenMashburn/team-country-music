{
 "cells": [
  {
   "cell_type": "code",
   "execution_count": 1,
   "id": "adc191d6",
   "metadata": {},
   "outputs": [],
   "source": [
    "import numpy as np\n",
    "import pandas as pd\n",
    "import seaborn as sns\n",
    "import matplotlib.pyplot as plt\n",
    "from sklearn.preprocessing import StandardScaler, LabelEncoder\n",
    "from sklearn.pipeline import Pipeline, FeatureUnion\n",
    "from sklearn.base import BaseEstimator, TransformerMixin\n",
    "from sklearn.model_selection import train_test_split, GridSearchCV, cross_val_score"
   ]
  },
  {
   "cell_type": "code",
   "execution_count": 2,
   "id": "f248c456",
   "metadata": {},
   "outputs": [],
   "source": [
    "class DataFrameSelector(BaseEstimator, TransformerMixin):\n",
    "    def __init__(self, attribute_names):\n",
    "        self.attribute_names = attribute_names\n",
    "    def fit(self, X, y=None):\n",
    "        return self;\n",
    "    def transform(self, X):\n",
    "        return X[self.attribute_names].values"
   ]
  },
  {
   "cell_type": "code",
   "execution_count": 3,
   "id": "3d1cba0c",
   "metadata": {},
   "outputs": [],
   "source": [
    "class MyLabelEncoder(LabelEncoder):\n",
    "    def fit(self, X, y=None):\n",
    "        super(MyLabelEncoder, self).fit(X)\n",
    "    def transform(self, X, y=None):\n",
    "        return super(MyLabelEncoder, self).transform(X)\n",
    "    def fit_transform(self, X, y=None):\n",
    "        tmp = super(MyLabelEncoder, self).fit(X).transform(X)\n",
    "        return tmp.reshape(len(tmp), 1)"
   ]
  },
  {
   "cell_type": "code",
   "execution_count": null,
   "id": "b5c36495",
   "metadata": {},
   "outputs": [],
   "source": []
  }
 ],
 "metadata": {
  "kernelspec": {
   "display_name": "mlenv",
   "language": "python",
   "name": "mlenv"
  },
  "language_info": {
   "codemirror_mode": {
    "name": "ipython",
    "version": 3
   },
   "file_extension": ".py",
   "mimetype": "text/x-python",
   "name": "python",
   "nbconvert_exporter": "python",
   "pygments_lexer": "ipython3",
   "version": "3.7.10"
  }
 },
 "nbformat": 4,
 "nbformat_minor": 5
}
