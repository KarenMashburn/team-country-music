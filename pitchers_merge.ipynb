{
 "cells": [
  {
   "cell_type": "code",
   "execution_count": 1,
   "source": [
    "# Import pandas\r\n",
    "import pandas as pd"
   ],
   "outputs": [],
   "metadata": {}
  },
  {
   "cell_type": "code",
   "execution_count": 2,
   "source": [
    "bauer_df = pd.read_csv('Data/Pitchers/bauer.csv')\r\n",
    "bieber_df = pd.read_csv('Data/Pitchers/bieber.csv')\r\n",
    "buehler_df = pd.read_csv('Data/Pitchers/buehler.csv')\r\n",
    "cole_df = pd.read_csv('Data/Pitchers/cole.csv')\r\n",
    "degrom_df = pd.read_csv('Data/Pitchers/degrom.csv')\r\n",
    "kershaw_df = pd.read_csv('Data/Pitchers/kershaw.csv')\r\n",
    "lamet_df = pd.read_csv('Data/Pitchers/lamet.csv')\r\n",
    "nola_df = pd.read_csv('Data/Pitchers/nola.csv')\r\n",
    "scherzer_df = pd.read_csv('Data/Pitchers/scherzer.csv')"
   ],
   "outputs": [],
   "metadata": {}
  },
  {
   "cell_type": "code",
   "execution_count": 3,
   "source": [
    "top_pitchers_df = pd.concat([bauer_df, bieber_df, buehler_df, cole_df, degrom_df, kershaw_df, lamet_df, nola_df, scherzer_df])"
   ],
   "outputs": [],
   "metadata": {}
  },
  {
   "cell_type": "code",
   "execution_count": 4,
   "source": [
    "top_pitchers_df.to_csv('Data/Pitchers/top_nine_pitchers.csv')"
   ],
   "outputs": [],
   "metadata": {}
  }
 ],
 "metadata": {
  "orig_nbformat": 4,
  "language_info": {
   "name": "python",
   "version": "3.7.10",
   "mimetype": "text/x-python",
   "codemirror_mode": {
    "name": "ipython",
    "version": 3
   },
   "pygments_lexer": "ipython3",
   "nbconvert_exporter": "python",
   "file_extension": ".py"
  },
  "kernelspec": {
   "name": "python3",
   "display_name": "Python 3.7.10 64-bit ('mlenv': conda)"
  },
  "interpreter": {
   "hash": "40fb27a0b3552aaaea244cad2a4e2a0b14cdc7fac326086d4f131670520249ee"
  }
 },
 "nbformat": 4,
 "nbformat_minor": 2
}